{
 "cells": [
  {
   "cell_type": "code",
   "execution_count": 86,
   "id": "b1a49628",
   "metadata": {},
   "outputs": [
    {
     "data": {
      "text/plain": [
       "'{\"request\":{\"type\":\"City\",\"query\":\"Cairo, Egypt\",\"language\":\"en\",\"unit\":\"m\"},\"location\":{\"name\":\"Cairo\",\"country\":\"Egypt\",\"region\":\"Al Qahirah\",\"lat\":\"30.050\",\"lon\":\"31.250\",\"timezone_id\":\"Africa\\\\/Cairo\",\"localtime\":\"2021-09-28 13:46\",\"localtime_epoch\":1632836760,\"utc_offset\":\"2.0\"},\"current\":{\"observation_time\":\"11:46 AM\",\"temperature\":29,\"weather_code\":113,\"weather_icons\":[\"https:\\\\/\\\\/assets.weatherstack.com\\\\/images\\\\/wsymbols01_png_64\\\\/wsymbol_0001_sunny.png\"],\"weather_descriptions\":[\"Sunny\"],\"wind_speed\":15,\"wind_degree\":270,\"wind_dir\":\"W\",\"pressure\":1013,\"precip\":0,\"humidity\":43,\"cloudcover\":0,\"feelslike\":30,\"uv_index\":7,\"visibility\":10,\"is_day\":\"yes\"}}'"
      ]
     },
     "execution_count": 86,
     "metadata": {},
     "output_type": "execute_result"
    }
   ],
   "source": [
    "import requests\n",
    "\n",
    "params = {\n",
    "  'access_key': '46f3a4445f505d2e38e4cd3dcb63912e',\n",
    "  'query': 'Cairo'\n",
    "}\n",
    "\n",
    "api_result = requests.get('http://api.weatherstack.com/current', params)\n",
    "api_result.text\n"
   ]
  },
  {
   "cell_type": "code",
   "execution_count": 87,
   "id": "330fa59d",
   "metadata": {},
   "outputs": [
    {
     "data": {
      "text/plain": [
       "{'request': {'type': 'City',\n",
       "  'query': 'Cairo, Egypt',\n",
       "  'language': 'en',\n",
       "  'unit': 'm'},\n",
       " 'location': {'name': 'Cairo',\n",
       "  'country': 'Egypt',\n",
       "  'region': 'Al Qahirah',\n",
       "  'lat': '30.050',\n",
       "  'lon': '31.250',\n",
       "  'timezone_id': 'Africa/Cairo',\n",
       "  'localtime': '2021-09-28 13:46',\n",
       "  'localtime_epoch': 1632836760,\n",
       "  'utc_offset': '2.0'},\n",
       " 'current': {'observation_time': '11:46 AM',\n",
       "  'temperature': 29,\n",
       "  'weather_code': 113,\n",
       "  'weather_icons': ['https://assets.weatherstack.com/images/wsymbols01_png_64/wsymbol_0001_sunny.png'],\n",
       "  'weather_descriptions': ['Sunny'],\n",
       "  'wind_speed': 15,\n",
       "  'wind_degree': 270,\n",
       "  'wind_dir': 'W',\n",
       "  'pressure': 1013,\n",
       "  'precip': 0,\n",
       "  'humidity': 43,\n",
       "  'cloudcover': 0,\n",
       "  'feelslike': 30,\n",
       "  'uv_index': 7,\n",
       "  'visibility': 10,\n",
       "  'is_day': 'yes'}}"
      ]
     },
     "execution_count": 87,
     "metadata": {},
     "output_type": "execute_result"
    }
   ],
   "source": [
    "import json\n",
    "data=json.loads(api_result.text)\n",
    "type(data)\n",
    "data"
   ]
  },
  {
   "cell_type": "code",
   "execution_count": 88,
   "id": "6120a3d9",
   "metadata": {},
   "outputs": [],
   "source": [
    "import csv\n",
    "\n",
    "with open('Weather.csv','a',newline='') as file:\n",
    "  \n",
    "    writer=csv.DictWriter(file,fieldnames=['temperature','wind_speed', 'humidity', 'pressure'])\n",
    "    #writer.writeheader()\n",
    "    \n",
    "    temperature =  data['current']['temperature']\n",
    "    wind_speed = data['current']['wind_speed']\n",
    "    humidity =  data['current']['humidity']\n",
    "    pressure = data['current'] ['pressure']\n",
    "    writer.writerow({'temperature':temperature ,'wind_speed':wind_speed ,'humidity':humidity ,'pressure':pressure })"
   ]
  },
  {
   "cell_type": "code",
   "execution_count": 89,
   "id": "f8e589ce",
   "metadata": {},
   "outputs": [
    {
     "data": {
      "text/html": [
       "<div>\n",
       "<style scoped>\n",
       "    .dataframe tbody tr th:only-of-type {\n",
       "        vertical-align: middle;\n",
       "    }\n",
       "\n",
       "    .dataframe tbody tr th {\n",
       "        vertical-align: top;\n",
       "    }\n",
       "\n",
       "    .dataframe thead th {\n",
       "        text-align: right;\n",
       "    }\n",
       "</style>\n",
       "<table border=\"1\" class=\"dataframe\">\n",
       "  <thead>\n",
       "    <tr style=\"text-align: right;\">\n",
       "      <th></th>\n",
       "      <th>temperature</th>\n",
       "      <th>wind_speed</th>\n",
       "      <th>humidity</th>\n",
       "      <th>pressure</th>\n",
       "    </tr>\n",
       "  </thead>\n",
       "  <tbody>\n",
       "    <tr>\n",
       "      <th>0</th>\n",
       "      <td>29</td>\n",
       "      <td>15</td>\n",
       "      <td>43</td>\n",
       "      <td>1013</td>\n",
       "    </tr>\n",
       "    <tr>\n",
       "      <th>1</th>\n",
       "      <td>29</td>\n",
       "      <td>15</td>\n",
       "      <td>43</td>\n",
       "      <td>1013</td>\n",
       "    </tr>\n",
       "    <tr>\n",
       "      <th>2</th>\n",
       "      <td>29</td>\n",
       "      <td>15</td>\n",
       "      <td>43</td>\n",
       "      <td>1013</td>\n",
       "    </tr>\n",
       "    <tr>\n",
       "      <th>3</th>\n",
       "      <td>29</td>\n",
       "      <td>15</td>\n",
       "      <td>43</td>\n",
       "      <td>1013</td>\n",
       "    </tr>\n",
       "  </tbody>\n",
       "</table>\n",
       "</div>"
      ],
      "text/plain": [
       "   temperature  wind_speed  humidity  pressure\n",
       "0           29          15        43      1013\n",
       "1           29          15        43      1013\n",
       "2           29          15        43      1013\n",
       "3           29          15        43      1013"
      ]
     },
     "execution_count": 89,
     "metadata": {},
     "output_type": "execute_result"
    }
   ],
   "source": [
    "import pandas as pd\n",
    "df=pd.read_csv('Weather.csv')\n",
    "df.head(10)"
   ]
  }
 ],
 "metadata": {
  "kernelspec": {
   "display_name": "Python 3 (ipykernel)",
   "language": "python",
   "name": "python3"
  },
  "language_info": {
   "codemirror_mode": {
    "name": "ipython",
    "version": 3
   },
   "file_extension": ".py",
   "mimetype": "text/x-python",
   "name": "python",
   "nbconvert_exporter": "python",
   "pygments_lexer": "ipython3",
   "version": "3.7.3"
  }
 },
 "nbformat": 4,
 "nbformat_minor": 5
}
