{
 "cells": [
  {
   "cell_type": "code",
   "execution_count": 15,
   "id": "0081b48c",
   "metadata": {},
   "outputs": [
    {
     "data": {
      "text/plain": [
       "'{\"motd\":{\"msg\":\"If you or your company use this project or like what we doing, please consider backing us so we can continue maintaining and evolving this project.\",\"url\":\"https://exchangerate.host/#/donate\"},\"success\":true,\"base\":\"EUR\",\"date\":\"2021-08-01\",\"rates\":{\"AED\":4.356077,\"AFN\":94.655199,\"ALL\":121.486149,\"AMD\":576.004864,\"ANG\":2.128975,\"AOA\":757.327114,\"ARS\":114.686694,\"AUD\":1.614733,\"AWG\":2.135437,\"AZN\":2.01685,\"BAM\":1.951772,\"BBD\":2.372031,\"BDT\":100.674903,\"BGN\":1.954761,\"BHD\":0.447951,\"BIF\":2349.044682,\"BMD\":1.186817,\"BND\":1.605275,\"BOB\":8.188413,\"BRL\":6.177534,\"BSD\":1.186819,\"BTC\":0.000704,\"BTN\":88.122523,\"BWP\":13.096195,\"BYN\":2.975489,\"BZD\":2.390322,\"CAD\":1.480714,\"CDF\":2355.834055,\"CHF\":1.075114,\"CLF\":0.033459,\"CLP\":897.293534,\"CNH\":7.662594,\"CNY\":7.663393,\"COP\":4575.860698,\"CRC\":734.550844,\"CUC\":1.186942,\"CUP\":30.537328,\"CVE\":110.49753,\"CZK\":25.47762,\"DJF\":210.987818,\"DKK\":7.433176,\"DOP\":67.614493,\"DZD\":159.785164,\"EGP\":18.630686,\"ERN\":17.794119,\"ETB\":52.590802,\"EUR\":1,\"FJD\":2.471816,\"FKP\":0.853332,\"GBP\":0.852596,\"GEL\":3.647245,\"GGP\":0.852666,\"GHS\":7.08743,\"GIP\":0.853046,\"GMD\":60.658154,\"GNF\":11575.506943,\"GTQ\":9.18992,\"GYD\":247.645275,\"HKD\":9.217148,\"HNL\":28.134227,\"HRK\":7.496026,\"HTG\":113.78787,\"HUF\":358.034527,\"IDR\":17160.808805,\"ILS\":3.826596,\"IMP\":0.853308,\"INR\":88.205121,\"IQD\":1730.072732,\"IRR\":49990.59353,\"ISK\":146.693361,\"JEP\":0.852579,\"JMD\":183.893673,\"JOD\":0.841245,\"JPY\":130.108912,\"KES\":128.787218,\"KGS\":100.30656,\"KHR\":4827.376861,\"KMF\":493.324999,\"KPW\":1067.288887,\"KRW\":1366.046279,\"KWD\":0.357635,\"KYD\":0.988566,\"KZT\":504.606521,\"LAK\":11320.68473,\"LBP\":1792.945863,\"LKR\":236.567141,\"LRD\":203.555837,\"LSL\":17.358899,\"LYD\":5.354589,\"MAD\":10.574488,\"MDL\":21.126288,\"MGA\":4511.908464,\"MKD\":61.317894,\"MMK\":1951.813812,\"MNT\":3379.968402,\"MOP\":9.494741,\"MRO\":423.358255,\"MRU\":42.820424,\"MUR\":50.35531,\"MVR\":18.293129,\"MWK\":963.455041,\"MXN\":23.578436,\"MYR\":5.006835,\"MZN\":75.458028,\"NAD\":17.599305,\"NGN\":487.9523,\"NIO\":41.618258,\"NOK\":10.456591,\"NPR\":140.995719,\"NZD\":1.701578,\"OMR\":0.456822,\"PAB\":1.186901,\"PEN\":4.65423,\"PGK\":4.16355,\"PHP\":59.289925,\"PKR\":192.810206,\"PLN\":4.564805,\"PYG\":8189.602145,\"QAR\":4.318945,\"RON\":4.912585,\"RSD\":117.402021,\"RUB\":86.745875,\"RWF\":1193.822006,\"SAR\":4.448838,\"SBD\":9.553239,\"SCR\":17.049126,\"SDG\":529.49457,\"SEK\":10.193751,\"SGD\":1.606127,\"SHP\":0.853312,\"SLL\":12153.922645,\"SOS\":685.628007,\"SRD\":25.38372,\"SSP\":154.473608,\"STD\":24546.456741,\"STN\":24.987044,\"SVC\":10.37044,\"SYP\":1491.123659,\"SZL\":17.336636,\"THB\":39.005007,\"TJS\":13.523702,\"TMT\":4.162571,\"TND\":3.310005,\"TOP\":2.683704,\"TRY\":10.025236,\"TTD\":8.056847,\"TWD\":33.13453,\"TZS\":2749.860517,\"UAH\":31.817327,\"UGX\":4206.010104,\"USD\":1.186996,\"UYU\":51.951174,\"UZS\":12591.884579,\"VES\":4625093.100806,\"VND\":27301.85656,\"VUV\":131.411113,\"WST\":3.040491,\"XAF\":655.501663,\"XAG\":0.04712,\"XAU\":0.001314,\"XCD\":3.204997,\"XDR\":0.831364,\"XOF\":655.502048,\"XPD\":0.000392,\"XPF\":119.250018,\"XPT\":0.001347,\"YER\":296.588315,\"ZAR\":17.322502,\"ZMW\":22.844663,\"ZWL\":381.852458}}'"
      ]
     },
     "execution_count": 15,
     "metadata": {},
     "output_type": "execute_result"
    }
   ],
   "source": [
    "import requests\n",
    "import json\n",
    "json_resp=requests.get('https://api.exchangerate.host/latest')\n",
    "json_resp.text"
   ]
  },
  {
   "cell_type": "code",
   "execution_count": 11,
   "id": "35b6e34f",
   "metadata": {},
   "outputs": [
    {
     "data": {
      "text/plain": [
       "str"
      ]
     },
     "execution_count": 11,
     "metadata": {},
     "output_type": "execute_result"
    }
   ],
   "source": [
    "type(json_resp.txt)"
   ]
  },
  {
   "cell_type": "markdown",
   "id": "16c10cb8",
   "metadata": {},
   "source": [
    "# Convert to dict"
   ]
  },
  {
   "cell_type": "code",
   "execution_count": 17,
   "id": "fcf17a48",
   "metadata": {},
   "outputs": [
    {
     "data": {
      "text/plain": [
       "{'motd': {'msg': 'If you or your company use this project or like what we doing, please consider backing us so we can continue maintaining and evolving this project.',\n",
       "  'url': 'https://exchangerate.host/#/donate'},\n",
       " 'success': True,\n",
       " 'base': 'EUR',\n",
       " 'date': '2021-08-01',\n",
       " 'rates': {'AED': 4.356077,\n",
       "  'AFN': 94.655199,\n",
       "  'ALL': 121.486149,\n",
       "  'AMD': 576.004864,\n",
       "  'ANG': 2.128975,\n",
       "  'AOA': 757.327114,\n",
       "  'ARS': 114.686694,\n",
       "  'AUD': 1.614733,\n",
       "  'AWG': 2.135437,\n",
       "  'AZN': 2.01685,\n",
       "  'BAM': 1.951772,\n",
       "  'BBD': 2.372031,\n",
       "  'BDT': 100.674903,\n",
       "  'BGN': 1.954761,\n",
       "  'BHD': 0.447951,\n",
       "  'BIF': 2349.044682,\n",
       "  'BMD': 1.186817,\n",
       "  'BND': 1.605275,\n",
       "  'BOB': 8.188413,\n",
       "  'BRL': 6.177534,\n",
       "  'BSD': 1.186819,\n",
       "  'BTC': 0.000704,\n",
       "  'BTN': 88.122523,\n",
       "  'BWP': 13.096195,\n",
       "  'BYN': 2.975489,\n",
       "  'BZD': 2.390322,\n",
       "  'CAD': 1.480714,\n",
       "  'CDF': 2355.834055,\n",
       "  'CHF': 1.075114,\n",
       "  'CLF': 0.033459,\n",
       "  'CLP': 897.293534,\n",
       "  'CNH': 7.662594,\n",
       "  'CNY': 7.663393,\n",
       "  'COP': 4575.860698,\n",
       "  'CRC': 734.550844,\n",
       "  'CUC': 1.186942,\n",
       "  'CUP': 30.537328,\n",
       "  'CVE': 110.49753,\n",
       "  'CZK': 25.47762,\n",
       "  'DJF': 210.987818,\n",
       "  'DKK': 7.433176,\n",
       "  'DOP': 67.614493,\n",
       "  'DZD': 159.785164,\n",
       "  'EGP': 18.630686,\n",
       "  'ERN': 17.794119,\n",
       "  'ETB': 52.590802,\n",
       "  'EUR': 1,\n",
       "  'FJD': 2.471816,\n",
       "  'FKP': 0.853332,\n",
       "  'GBP': 0.852596,\n",
       "  'GEL': 3.647245,\n",
       "  'GGP': 0.852666,\n",
       "  'GHS': 7.08743,\n",
       "  'GIP': 0.853046,\n",
       "  'GMD': 60.658154,\n",
       "  'GNF': 11575.506943,\n",
       "  'GTQ': 9.18992,\n",
       "  'GYD': 247.645275,\n",
       "  'HKD': 9.217148,\n",
       "  'HNL': 28.134227,\n",
       "  'HRK': 7.496026,\n",
       "  'HTG': 113.78787,\n",
       "  'HUF': 358.034527,\n",
       "  'IDR': 17160.808805,\n",
       "  'ILS': 3.826596,\n",
       "  'IMP': 0.853308,\n",
       "  'INR': 88.205121,\n",
       "  'IQD': 1730.072732,\n",
       "  'IRR': 49990.59353,\n",
       "  'ISK': 146.693361,\n",
       "  'JEP': 0.852579,\n",
       "  'JMD': 183.893673,\n",
       "  'JOD': 0.841245,\n",
       "  'JPY': 130.108912,\n",
       "  'KES': 128.787218,\n",
       "  'KGS': 100.30656,\n",
       "  'KHR': 4827.376861,\n",
       "  'KMF': 493.324999,\n",
       "  'KPW': 1067.288887,\n",
       "  'KRW': 1366.046279,\n",
       "  'KWD': 0.357635,\n",
       "  'KYD': 0.988566,\n",
       "  'KZT': 504.606521,\n",
       "  'LAK': 11320.68473,\n",
       "  'LBP': 1792.945863,\n",
       "  'LKR': 236.567141,\n",
       "  'LRD': 203.555837,\n",
       "  'LSL': 17.358899,\n",
       "  'LYD': 5.354589,\n",
       "  'MAD': 10.574488,\n",
       "  'MDL': 21.126288,\n",
       "  'MGA': 4511.908464,\n",
       "  'MKD': 61.317894,\n",
       "  'MMK': 1951.813812,\n",
       "  'MNT': 3379.968402,\n",
       "  'MOP': 9.494741,\n",
       "  'MRO': 423.358255,\n",
       "  'MRU': 42.820424,\n",
       "  'MUR': 50.35531,\n",
       "  'MVR': 18.293129,\n",
       "  'MWK': 963.455041,\n",
       "  'MXN': 23.578436,\n",
       "  'MYR': 5.006835,\n",
       "  'MZN': 75.458028,\n",
       "  'NAD': 17.599305,\n",
       "  'NGN': 487.9523,\n",
       "  'NIO': 41.618258,\n",
       "  'NOK': 10.456591,\n",
       "  'NPR': 140.995719,\n",
       "  'NZD': 1.701578,\n",
       "  'OMR': 0.456822,\n",
       "  'PAB': 1.186901,\n",
       "  'PEN': 4.65423,\n",
       "  'PGK': 4.16355,\n",
       "  'PHP': 59.289925,\n",
       "  'PKR': 192.810206,\n",
       "  'PLN': 4.564805,\n",
       "  'PYG': 8189.602145,\n",
       "  'QAR': 4.318945,\n",
       "  'RON': 4.912585,\n",
       "  'RSD': 117.402021,\n",
       "  'RUB': 86.745875,\n",
       "  'RWF': 1193.822006,\n",
       "  'SAR': 4.448838,\n",
       "  'SBD': 9.553239,\n",
       "  'SCR': 17.049126,\n",
       "  'SDG': 529.49457,\n",
       "  'SEK': 10.193751,\n",
       "  'SGD': 1.606127,\n",
       "  'SHP': 0.853312,\n",
       "  'SLL': 12153.922645,\n",
       "  'SOS': 685.628007,\n",
       "  'SRD': 25.38372,\n",
       "  'SSP': 154.473608,\n",
       "  'STD': 24546.456741,\n",
       "  'STN': 24.987044,\n",
       "  'SVC': 10.37044,\n",
       "  'SYP': 1491.123659,\n",
       "  'SZL': 17.336636,\n",
       "  'THB': 39.005007,\n",
       "  'TJS': 13.523702,\n",
       "  'TMT': 4.162571,\n",
       "  'TND': 3.310005,\n",
       "  'TOP': 2.683704,\n",
       "  'TRY': 10.025236,\n",
       "  'TTD': 8.056847,\n",
       "  'TWD': 33.13453,\n",
       "  'TZS': 2749.860517,\n",
       "  'UAH': 31.817327,\n",
       "  'UGX': 4206.010104,\n",
       "  'USD': 1.186996,\n",
       "  'UYU': 51.951174,\n",
       "  'UZS': 12591.884579,\n",
       "  'VES': 4625093.100806,\n",
       "  'VND': 27301.85656,\n",
       "  'VUV': 131.411113,\n",
       "  'WST': 3.040491,\n",
       "  'XAF': 655.501663,\n",
       "  'XAG': 0.04712,\n",
       "  'XAU': 0.001314,\n",
       "  'XCD': 3.204997,\n",
       "  'XDR': 0.831364,\n",
       "  'XOF': 655.502048,\n",
       "  'XPD': 0.000392,\n",
       "  'XPF': 119.250018,\n",
       "  'XPT': 0.001347,\n",
       "  'YER': 296.588315,\n",
       "  'ZAR': 17.322502,\n",
       "  'ZMW': 22.844663,\n",
       "  'ZWL': 381.852458}}"
      ]
     },
     "execution_count": 17,
     "metadata": {},
     "output_type": "execute_result"
    }
   ],
   "source": [
    "data=json.loads(json_resp.text)\n",
    "type(data)\n",
    "data"
   ]
  },
  {
   "cell_type": "markdown",
   "id": "e1b9cb2f",
   "metadata": {},
   "source": [
    "# Convert to csv"
   ]
  },
  {
   "cell_type": "code",
   "execution_count": 38,
   "id": "b4d16e3c",
   "metadata": {},
   "outputs": [],
   "source": [
    "import csv\n",
    "\n",
    "with open('ex_rate.csv','w',newline='') as file:\n",
    "    writer=csv.DictWriter(file,fieldnames=['currancy_name','rate'])\n",
    "    writer.writeheader()\n",
    "    for x in data['rates']:\n",
    "        currancy_name=x\n",
    "        rate=data['rates'][x]\n",
    "        writer.writerow({'currancy_name':currancy_name,'rate':rate})"
   ]
  },
  {
   "cell_type": "code",
   "execution_count": 39,
   "id": "1afd2411",
   "metadata": {},
   "outputs": [
    {
     "data": {
      "text/html": [
       "<div>\n",
       "<style scoped>\n",
       "    .dataframe tbody tr th:only-of-type {\n",
       "        vertical-align: middle;\n",
       "    }\n",
       "\n",
       "    .dataframe tbody tr th {\n",
       "        vertical-align: top;\n",
       "    }\n",
       "\n",
       "    .dataframe thead th {\n",
       "        text-align: right;\n",
       "    }\n",
       "</style>\n",
       "<table border=\"1\" class=\"dataframe\">\n",
       "  <thead>\n",
       "    <tr style=\"text-align: right;\">\n",
       "      <th></th>\n",
       "      <th>currancy_name</th>\n",
       "      <th>rate</th>\n",
       "    </tr>\n",
       "  </thead>\n",
       "  <tbody>\n",
       "    <tr>\n",
       "      <th>0</th>\n",
       "      <td>AED</td>\n",
       "      <td>4.356077</td>\n",
       "    </tr>\n",
       "    <tr>\n",
       "      <th>1</th>\n",
       "      <td>AFN</td>\n",
       "      <td>94.655199</td>\n",
       "    </tr>\n",
       "    <tr>\n",
       "      <th>2</th>\n",
       "      <td>ALL</td>\n",
       "      <td>121.486149</td>\n",
       "    </tr>\n",
       "    <tr>\n",
       "      <th>3</th>\n",
       "      <td>AMD</td>\n",
       "      <td>576.004864</td>\n",
       "    </tr>\n",
       "    <tr>\n",
       "      <th>4</th>\n",
       "      <td>ANG</td>\n",
       "      <td>2.128975</td>\n",
       "    </tr>\n",
       "    <tr>\n",
       "      <th>5</th>\n",
       "      <td>AOA</td>\n",
       "      <td>757.327114</td>\n",
       "    </tr>\n",
       "    <tr>\n",
       "      <th>6</th>\n",
       "      <td>ARS</td>\n",
       "      <td>114.686694</td>\n",
       "    </tr>\n",
       "    <tr>\n",
       "      <th>7</th>\n",
       "      <td>AUD</td>\n",
       "      <td>1.614733</td>\n",
       "    </tr>\n",
       "    <tr>\n",
       "      <th>8</th>\n",
       "      <td>AWG</td>\n",
       "      <td>2.135437</td>\n",
       "    </tr>\n",
       "    <tr>\n",
       "      <th>9</th>\n",
       "      <td>AZN</td>\n",
       "      <td>2.016850</td>\n",
       "    </tr>\n",
       "  </tbody>\n",
       "</table>\n",
       "</div>"
      ],
      "text/plain": [
       "  currancy_name        rate\n",
       "0           AED    4.356077\n",
       "1           AFN   94.655199\n",
       "2           ALL  121.486149\n",
       "3           AMD  576.004864\n",
       "4           ANG    2.128975\n",
       "5           AOA  757.327114\n",
       "6           ARS  114.686694\n",
       "7           AUD    1.614733\n",
       "8           AWG    2.135437\n",
       "9           AZN    2.016850"
      ]
     },
     "execution_count": 39,
     "metadata": {},
     "output_type": "execute_result"
    }
   ],
   "source": [
    "import pandas as pd\n",
    "df=pd.read_csv('ex_rate.csv')\n",
    "df.head(10)"
   ]
  },
  {
   "cell_type": "code",
   "execution_count": 83,
   "id": "c3558c3f",
   "metadata": {},
   "outputs": [
    {
     "name": "stdout",
     "output_type": "stream",
     "text": [
      "please enter the currancy nameUSD\n",
      "please enter the money value in USD1\n"
     ]
    },
    {
     "ename": "KeyError",
     "evalue": "'ZWL'",
     "output_type": "error",
     "traceback": [
      "\u001b[1;31m---------------------------------------------------------------------------\u001b[0m",
      "\u001b[1;31mKeyError\u001b[0m                                  Traceback (most recent call last)",
      "\u001b[1;32mC:\\Users\\MAHMOU~1\\AppData\\Local\\Temp/ipykernel_10628/1202687858.py\u001b[0m in \u001b[0;36m<module>\u001b[1;34m\u001b[0m\n\u001b[0;32m      2\u001b[0m \u001b[0minpm\u001b[0m \u001b[1;33m=\u001b[0m \u001b[0minput\u001b[0m \u001b[1;33m(\u001b[0m\u001b[1;34m'please enter the money value in USD'\u001b[0m\u001b[1;33m)\u001b[0m\u001b[1;33m\u001b[0m\u001b[1;33m\u001b[0m\u001b[0m\n\u001b[0;32m      3\u001b[0m \u001b[1;32mif\u001b[0m \u001b[0minpc\u001b[0m \u001b[1;32min\u001b[0m \u001b[0mdf\u001b[0m\u001b[1;33m.\u001b[0m\u001b[0mcurrancy_name\u001b[0m\u001b[1;33m.\u001b[0m\u001b[0mvalues\u001b[0m\u001b[1;33m:\u001b[0m\u001b[1;33m\u001b[0m\u001b[1;33m\u001b[0m\u001b[0m\n\u001b[1;32m----> 4\u001b[1;33m     \u001b[0mmoney\u001b[0m \u001b[1;33m=\u001b[0m \u001b[0minpm\u001b[0m \u001b[1;33m/\u001b[0m \u001b[0mdf\u001b[0m\u001b[1;33m.\u001b[0m\u001b[0mrate\u001b[0m\u001b[1;33m[\u001b[0m\u001b[0mcurrancy_name\u001b[0m\u001b[1;33m]\u001b[0m\u001b[1;33m\u001b[0m\u001b[1;33m\u001b[0m\u001b[0m\n\u001b[0m\u001b[0;32m      5\u001b[0m     \u001b[0mprint\u001b[0m \u001b[1;33m(\u001b[0m\u001b[0mmoney\u001b[0m\u001b[1;33m)\u001b[0m\u001b[1;33m\u001b[0m\u001b[1;33m\u001b[0m\u001b[0m\n\u001b[0;32m      6\u001b[0m \u001b[1;32melse\u001b[0m\u001b[1;33m:\u001b[0m\u001b[1;33m\u001b[0m\u001b[1;33m\u001b[0m\u001b[0m\n",
      "\u001b[1;32m~\\Anaconda3\\lib\\site-packages\\pandas\\core\\series.py\u001b[0m in \u001b[0;36m__getitem__\u001b[1;34m(self, key)\u001b[0m\n\u001b[0;32m    940\u001b[0m \u001b[1;33m\u001b[0m\u001b[0m\n\u001b[0;32m    941\u001b[0m         \u001b[1;32melif\u001b[0m \u001b[0mkey_is_scalar\u001b[0m\u001b[1;33m:\u001b[0m\u001b[1;33m\u001b[0m\u001b[1;33m\u001b[0m\u001b[0m\n\u001b[1;32m--> 942\u001b[1;33m             \u001b[1;32mreturn\u001b[0m \u001b[0mself\u001b[0m\u001b[1;33m.\u001b[0m\u001b[0m_get_value\u001b[0m\u001b[1;33m(\u001b[0m\u001b[0mkey\u001b[0m\u001b[1;33m)\u001b[0m\u001b[1;33m\u001b[0m\u001b[1;33m\u001b[0m\u001b[0m\n\u001b[0m\u001b[0;32m    943\u001b[0m \u001b[1;33m\u001b[0m\u001b[0m\n\u001b[0;32m    944\u001b[0m         \u001b[1;32mif\u001b[0m \u001b[0mis_hashable\u001b[0m\u001b[1;33m(\u001b[0m\u001b[0mkey\u001b[0m\u001b[1;33m)\u001b[0m\u001b[1;33m:\u001b[0m\u001b[1;33m\u001b[0m\u001b[1;33m\u001b[0m\u001b[0m\n",
      "\u001b[1;32m~\\Anaconda3\\lib\\site-packages\\pandas\\core\\series.py\u001b[0m in \u001b[0;36m_get_value\u001b[1;34m(self, label, takeable)\u001b[0m\n\u001b[0;32m   1049\u001b[0m \u001b[1;33m\u001b[0m\u001b[0m\n\u001b[0;32m   1050\u001b[0m         \u001b[1;31m# Similar to Index.get_value, but we do not fall back to positional\u001b[0m\u001b[1;33m\u001b[0m\u001b[1;33m\u001b[0m\u001b[1;33m\u001b[0m\u001b[0m\n\u001b[1;32m-> 1051\u001b[1;33m         \u001b[0mloc\u001b[0m \u001b[1;33m=\u001b[0m \u001b[0mself\u001b[0m\u001b[1;33m.\u001b[0m\u001b[0mindex\u001b[0m\u001b[1;33m.\u001b[0m\u001b[0mget_loc\u001b[0m\u001b[1;33m(\u001b[0m\u001b[0mlabel\u001b[0m\u001b[1;33m)\u001b[0m\u001b[1;33m\u001b[0m\u001b[1;33m\u001b[0m\u001b[0m\n\u001b[0m\u001b[0;32m   1052\u001b[0m         \u001b[1;32mreturn\u001b[0m \u001b[0mself\u001b[0m\u001b[1;33m.\u001b[0m\u001b[0mindex\u001b[0m\u001b[1;33m.\u001b[0m\u001b[0m_get_values_for_loc\u001b[0m\u001b[1;33m(\u001b[0m\u001b[0mself\u001b[0m\u001b[1;33m,\u001b[0m \u001b[0mloc\u001b[0m\u001b[1;33m,\u001b[0m \u001b[0mlabel\u001b[0m\u001b[1;33m)\u001b[0m\u001b[1;33m\u001b[0m\u001b[1;33m\u001b[0m\u001b[0m\n\u001b[0;32m   1053\u001b[0m \u001b[1;33m\u001b[0m\u001b[0m\n",
      "\u001b[1;32m~\\Anaconda3\\lib\\site-packages\\pandas\\core\\indexes\\range.py\u001b[0m in \u001b[0;36mget_loc\u001b[1;34m(self, key, method, tolerance)\u001b[0m\n\u001b[0;32m    386\u001b[0m                 \u001b[1;32mexcept\u001b[0m \u001b[0mValueError\u001b[0m \u001b[1;32mas\u001b[0m \u001b[0merr\u001b[0m\u001b[1;33m:\u001b[0m\u001b[1;33m\u001b[0m\u001b[1;33m\u001b[0m\u001b[0m\n\u001b[0;32m    387\u001b[0m                     \u001b[1;32mraise\u001b[0m \u001b[0mKeyError\u001b[0m\u001b[1;33m(\u001b[0m\u001b[0mkey\u001b[0m\u001b[1;33m)\u001b[0m \u001b[1;32mfrom\u001b[0m \u001b[0merr\u001b[0m\u001b[1;33m\u001b[0m\u001b[1;33m\u001b[0m\u001b[0m\n\u001b[1;32m--> 388\u001b[1;33m             \u001b[1;32mraise\u001b[0m \u001b[0mKeyError\u001b[0m\u001b[1;33m(\u001b[0m\u001b[0mkey\u001b[0m\u001b[1;33m)\u001b[0m\u001b[1;33m\u001b[0m\u001b[1;33m\u001b[0m\u001b[0m\n\u001b[0m\u001b[0;32m    389\u001b[0m         \u001b[1;32mreturn\u001b[0m \u001b[0msuper\u001b[0m\u001b[1;33m(\u001b[0m\u001b[1;33m)\u001b[0m\u001b[1;33m.\u001b[0m\u001b[0mget_loc\u001b[0m\u001b[1;33m(\u001b[0m\u001b[0mkey\u001b[0m\u001b[1;33m,\u001b[0m \u001b[0mmethod\u001b[0m\u001b[1;33m=\u001b[0m\u001b[0mmethod\u001b[0m\u001b[1;33m,\u001b[0m \u001b[0mtolerance\u001b[0m\u001b[1;33m=\u001b[0m\u001b[0mtolerance\u001b[0m\u001b[1;33m)\u001b[0m\u001b[1;33m\u001b[0m\u001b[1;33m\u001b[0m\u001b[0m\n\u001b[0;32m    390\u001b[0m \u001b[1;33m\u001b[0m\u001b[0m\n",
      "\u001b[1;31mKeyError\u001b[0m: 'ZWL'"
     ]
    }
   ],
   "source": [
    "inpc = input ('please enter the currancy name')\n",
    "inpm = input ('please enter the money value in USD')\n",
    "if inpc in df.currancy_name.values:\n",
    "    money = inpm / df.rate[currancy_name]\n",
    "    print (money)\n",
    "else:\n",
    "    print ('enter valid name')"
   ]
  },
  {
   "cell_type": "markdown",
   "id": "cef861ca",
   "metadata": {},
   "source": [
    "# Second Way"
   ]
  },
  {
   "cell_type": "code",
   "execution_count": 79,
   "id": "a72b4338",
   "metadata": {},
   "outputs": [
    {
     "name": "stdout",
     "output_type": "stream",
     "text": [
      "From Country: USD\n",
      "TO Country: EUR\n",
      "Amount: 100\n",
      "100 USD = 85.51 EUR\n"
     ]
    }
   ],
   "source": [
    "import requests\n",
    "  \n",
    "class Currency_convertor:\n",
    "    # empty dict to store the conversion rates\n",
    "    rates = {} \n",
    "    def __init__(self, url):\n",
    "        data = requests.get(url).json()\n",
    "  \n",
    "        # Extracting only the rates from the json data\n",
    "        self.rates = data[\"rates\"] \n",
    "  \n",
    "    # function to do a simple cross multiplication between \n",
    "    # the amount and the conversion rates\n",
    "    def convert(self, from_currency, to_currency, amount):\n",
    "        initial_amount = amount\n",
    "        if from_currency != 'EUR' :\n",
    "            amount = amount / self.rates[from_currency]\n",
    "  \n",
    "        # limiting the precision to 2 decimal places\n",
    "        amount = round(amount * self.rates[to_currency], 2)\n",
    "        print('{} {} = {} {}'.format(initial_amount, from_currency, amount, to_currency))\n",
    "  \n",
    "    # Driver code\n",
    "if __name__ == \"__main__\":\n",
    "  \n",
    "    url = ('https://api.exchangerate.host/latest')  \n",
    "    c = Currency_convertor(url)\n",
    "    from_country = input(\"From Country: \")\n",
    "    to_country = input(\"TO Country: \")\n",
    "    amount = int(input(\"Amount: \"))\n",
    "  \n",
    "    c.convert(from_country, to_country, amount)"
   ]
  }
 ],
 "metadata": {
  "kernelspec": {
   "display_name": "Python 3 (ipykernel)",
   "language": "python",
   "name": "python3"
  },
  "language_info": {
   "codemirror_mode": {
    "name": "ipython",
    "version": 3
   },
   "file_extension": ".py",
   "mimetype": "text/x-python",
   "name": "python",
   "nbconvert_exporter": "python",
   "pygments_lexer": "ipython3",
   "version": "3.7.3"
  }
 },
 "nbformat": 4,
 "nbformat_minor": 5
}
